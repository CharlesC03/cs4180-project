{
 "cells": [
  {
   "cell_type": "code",
   "execution_count": 1,
   "metadata": {},
   "outputs": [],
   "source": [
    "import torch\n",
    "from agent import DQN, ExponentialSchedule, train_dqn\n",
    "from env import PokerEnvironment"
   ]
  },
  {
   "cell_type": "code",
   "execution_count": 2,
   "metadata": {},
   "outputs": [],
   "source": [
    "env = PokerEnvironment()\n",
    "gamma = 0.99\n",
    "\n",
    "# We train for many time-steps; as usual, you can decrease this during development / debugging,\n",
    "# but make sure to restore it to 1_500_000 before submitting\n",
    "num_steps = 100_000\n",
    "num_saves = 5  # Save models at 0%, 25%, 50%, 75% and 100% of training\n",
    "\n",
    "replay_size = 200_000\n",
    "replay_prepopulate_steps = 50_000\n",
    "\n",
    "batch_size = 64\n",
    "exploration = ExponentialSchedule(1.0, 0.05, 1_000_000)\n",
    "\n",
    "model_class = DQN\n",
    "\n",
    "# This should take about 1-2 hours on a generic 4-core laptop\n",
    "dqn_models, returns, lengths, losses = train_dqn(\n",
    "    env,\n",
    "    num_steps,\n",
    "    num_saves=num_saves,\n",
    "    model=model_class,\n",
    "    replay_size=replay_size,\n",
    "    replay_prepopulate_steps=replay_prepopulate_steps,\n",
    "    batch_size=batch_size,\n",
    "    exploration=exploration,\n",
    "    gamma=gamma,\n",
    ")\n",
    "\n",
    "assert len(dqn_models) == num_saves\n",
    "assert all(isinstance(value, model_class) for value in dqn_models.values())\n",
    "\n",
    "# Saving computed models to disk, so that we can load and visualize them later\n",
    "checkpoint = {key: dqn.custom_dump() for key, dqn in dqn_models.items()}\n",
    "torch.save(checkpoint, f\"checkpoint_{env.spec.id}.pt\")"
   ]
  },
  {
   "cell_type": "code",
   "execution_count": null,
   "metadata": {},
   "outputs": [],
   "source": []
  }
 ],
 "metadata": {
  "kernelspec": {
   "display_name": "poker-agent-UTPq6ugP-py3.10",
   "language": "python",
   "name": "python3"
  },
  "language_info": {
   "codemirror_mode": {
    "name": "ipython",
    "version": 3
   },
   "file_extension": ".py",
   "mimetype": "text/x-python",
   "name": "python",
   "nbconvert_exporter": "python",
   "pygments_lexer": "ipython3",
   "version": "3.10.12"
  }
 },
 "nbformat": 4,
 "nbformat_minor": 2
}
